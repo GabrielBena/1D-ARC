{
 "cells": [
  {
   "cell_type": "code",
   "execution_count": 6,
   "metadata": {},
   "outputs": [],
   "source": [
    "import json\n",
    "import numpy as np\n",
    "import matplotlib.pyplot as plt\n",
    "import os\n",
    "import pandas as pd\n",
    "import sys"
   ]
  },
  {
   "cell_type": "code",
   "execution_count": 46,
   "metadata": {},
   "outputs": [],
   "source": [
    "file_path = \"../dataset/1d_denoising_mc/1d_denoising_mc_0.json\"\n",
    "\n",
    "\n",
    "def load_single_file(file_path):\n",
    "\n",
    "    with open(file_path, \"r\") as file:\n",
    "        task = json.load(file)\n",
    "        return task\n",
    "\n",
    "def get_pandas_dataset(path): \n",
    "\n",
    "\tcomplete_dataset = []\n",
    "\tpath = \"../dataset/\"\n",
    "\tfor task_name in os.listdir(path):\n",
    "\t\tfor task_iter in os.listdir(f\"{path}{task_name}/\"):\n",
    "\t\t\ttask = load_single_file(f\"{path}/{task_name}/{task_iter}\")\n",
    "\t\t\tfor trial in [\"train\", \"test\"]:\n",
    "\t\t\t\tfor t, single_task in enumerate(task[trial]):\n",
    "\t\t\t\t\tcomplete_dataset.append(\n",
    "\t\t\t\t\t\t{\n",
    "\t\t\t\t\t\t\t\"task_name\": task_name,\n",
    "\t\t\t\t\t\t\t\"trial\": trial,\n",
    "\t\t\t\t\t\t\t\"input\": np.array(single_task[\"input\"]),\n",
    "\t\t\t\t\t\t\t\"output\": np.array(single_task[\"output\"]),\n",
    "\t\t\t\t\t\t\t\"uuid\": task[\"uuid\"] if \"uuid\" in task.keys() else None,\n",
    "\t\t\t\t\t\t\t\"iteration\": t,\n",
    "\t\t\t\t\t\t}\n",
    "\t\t\t\t\t)\n",
    "\n",
    "\tcomplete_dataset = pd.DataFrame(complete_dataset)\n",
    "\tmax_shape, argmax_shape = (\n",
    "\t\tcomplete_dataset[\"input\"].apply(lambda x: x.shape).max(),\n",
    "\t\tcomplete_dataset[\"input\"].apply(lambda x: x.shape).argmax(),\n",
    "\t)\n",
    "\n",
    "\tfor i in [\"input\", \"output\"]:\n",
    "\t\t\n",
    "\t\tcomplete_dataset[i] = complete_dataset[i].apply(\n",
    "\t\t\tlambda x: np.pad(\n",
    "\t\t\t\tx,\n",
    "\t\t\t\t[((max_shape[0] - x.shape[0]) // 2, (max_shape[0] - x.shape[0]) // 2), ((max_shape[1] - x.shape[1]) // 2, (max_shape[1] - x.shape[1]) // 2)],\n",
    "\t\t\t\tmode=\"constant\",\n",
    "\t\t\t\tconstant_values=(0, 0)\n",
    "\t\t\t)\n",
    "\t\t)\n",
    "\n",
    "\t\t# Finish in case there is some off by one error\n",
    "\t\tcomplete_dataset[i] = complete_dataset[i].apply(\n",
    "\t\t\tlambda x: np.pad(\n",
    "\t\t\t\tx, \n",
    "\t\t\t\t[[0, max_shape[0] - x.shape[0]], [0, max_shape[1] - x.shape[1]]],\n",
    "\t\t\t\tmode=\"constant\",\n",
    "\t\t\t\tconstant_values=(0, 0)\n",
    "\t\t\t)\n",
    "\t\t)\n",
    "\n",
    "\treturn complete_dataset\n"
   ]
  },
  {
   "cell_type": "code",
   "execution_count": 47,
   "metadata": {},
   "outputs": [],
   "source": [
    "complete_dataset = get_pandas_dataset(\"../dataset/\")"
   ]
  },
  {
   "cell_type": "code",
   "execution_count": 54,
   "metadata": {},
   "outputs": [
    {
     "data": {
      "text/plain": [
       "array(['1d_flip', '1d_flip', '1d_flip', ..., '1d_pcopy_1c', '1d_pcopy_1c',\n",
       "       '1d_pcopy_1c'], dtype=object)"
      ]
     },
     "execution_count": 54,
     "metadata": {},
     "output_type": "execute_result"
    }
   ],
   "source": [
    "np.array(complete_dataset[\"task_name\"].array)"
   ]
  }
 ],
 "metadata": {
  "kernelspec": {
   "display_name": "nca",
   "language": "python",
   "name": "python3"
  },
  "language_info": {
   "codemirror_mode": {
    "name": "ipython",
    "version": 3
   },
   "file_extension": ".py",
   "mimetype": "text/x-python",
   "name": "python",
   "nbconvert_exporter": "python",
   "pygments_lexer": "ipython3",
   "version": "3.12.5"
  }
 },
 "nbformat": 4,
 "nbformat_minor": 2
}
